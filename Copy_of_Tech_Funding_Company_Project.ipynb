{
  "nbformat": 4,
  "nbformat_minor": 0,
  "metadata": {
    "colab": {
      "name": "Copy of Tech_Funding_Company_Project.ipynb",
      "private_outputs": true,
      "provenance": [],
      "collapsed_sections": []
    },
    "kernelspec": {
      "name": "python3",
      "display_name": "Python 3"
    },
    "language_info": {
      "name": "python"
    }
  },
  "cells": [
    {
      "cell_type": "markdown",
      "source": [
        "# Tech Company Fundings"
      ],
      "metadata": {
        "id": "v3Rybl8XNOYE"
      }
    },
    {
      "cell_type": "markdown",
      "source": [
        "### Importing Libraries "
      ],
      "metadata": {
        "id": "sMuMlhKdNt70"
      }
    },
    {
      "cell_type": "code",
      "execution_count": null,
      "metadata": {
        "id": "KC6LC6OqM-rd"
      },
      "outputs": [],
      "source": [
        "import pandas as pd\n",
        "import numpy as np\n",
        "from sklearn.model_selection import train_test_split\n",
        "from sklearn.ensemble import GradientBoostingRegressor\n",
        "from sklearn.metrics import mean_absolute_error, r2_score\n",
        "from sklearn.model_selection import GridSearchCV\n",
        "from keras.models import Sequential\n",
        "from keras.layers import *"
      ]
    },
    {
      "cell_type": "code",
      "source": [
        "tech_fund = pd.read_csv(\"tech-fundings1.csv\")"
      ],
      "metadata": {
        "id": "40elAGanN2wI"
      },
      "execution_count": null,
      "outputs": []
    },
    {
      "cell_type": "markdown",
      "source": [
        "### EDA"
      ],
      "metadata": {
        "id": "mJ7i3AKgN2QZ"
      }
    },
    {
      "cell_type": "code",
      "source": [
        "tech_fund.head()"
      ],
      "metadata": {
        "id": "ii0Y1P7-OJco"
      },
      "execution_count": null,
      "outputs": []
    },
    {
      "cell_type": "code",
      "source": [
        "# Remove irrelevant data\n",
        "\n",
        "irrelevant_data= ['index','Website','Funding Date', 'Company']\n",
        "\n",
        "tech_fund.drop(irrelevant_data, axis=1, inplace=True)\n",
        "\n",
        "tech_fund.head()"
      ],
      "metadata": {
        "id": "UFmRPM-jOQDc"
      },
      "execution_count": null,
      "outputs": []
    },
    {
      "cell_type": "code",
      "source": [
        "tech_fund.info()"
      ],
      "metadata": {
        "id": "4SoD3wrmOUZd"
      },
      "execution_count": null,
      "outputs": []
    },
    {
      "cell_type": "code",
      "source": [
        "tech_fund.groupby('Region').describe()"
      ],
      "metadata": {
        "id": "R_PIC-p5OVQG"
      },
      "execution_count": null,
      "outputs": []
    },
    {
      "cell_type": "code",
      "source": [
        "tech_fund.groupby('Funding Stage').describe()"
      ],
      "metadata": {
        "id": "DuFVLPk_OX1d"
      },
      "execution_count": null,
      "outputs": []
    },
    {
      "cell_type": "markdown",
      "source": [
        "### Feature Engineering "
      ],
      "metadata": {
        "id": "iSSpkU0iOh3l"
      }
    },
    {
      "cell_type": "code",
      "source": [
        "# Remove 'unknown' and 'undisclosed' cells from Region, Funding Stage, and Funding Amount\n",
        "cond1 = tech_fund['Region'] != 'Unknown'\n",
        "cond2 = tech_fund['Funding Stage'] != 'Unknown' \n",
        "cond3 = tech_fund['Funding Stage'] != 'Undisclosed' \n",
        "cond4 = tech_fund['Funding Amount (USD)'] != 'Unknown'\n",
        "\n",
        "tech_fund = tech_fund[cond1 & cond2 & cond3 & cond4]"
      ],
      "metadata": {
        "id": "Rxx_u8bEOlQR"
      },
      "execution_count": null,
      "outputs": []
    },
    {
      "cell_type": "code",
      "source": [
        "print(\"Funding Stage\")\n",
        "print(tech_fund['Funding Stage'].unique())\n",
        "\n",
        "print(\"Region\")\n",
        "print(tech_fund['Region'].unique())"
      ],
      "metadata": {
        "id": "x4czYsYPOqoG"
      },
      "execution_count": null,
      "outputs": []
    },
    {
      "cell_type": "code",
      "source": [
        "# Remove missing (Na) values\n",
        "tech_fund.dropna(inplace=True)"
      ],
      "metadata": {
        "id": "ZPL0NVxoOst1"
      },
      "execution_count": null,
      "outputs": []
    },
    {
      "cell_type": "code",
      "source": [
        "# Review dataset after changes\n",
        "tech_fund.info()"
      ],
      "metadata": {
        "id": "tEjEG4TjOu6-"
      },
      "execution_count": null,
      "outputs": []
    },
    {
      "cell_type": "code",
      "source": [
        "# Convert string to float\n",
        "tech_fund['Funding Amount (USD)'] = tech_fund['Funding Amount (USD)'].astype('float')"
      ],
      "metadata": {
        "id": "yq2HtnzoO037"
      },
      "execution_count": null,
      "outputs": []
    },
    {
      "cell_type": "code",
      "source": [
        "# Convert type casting for Funding Amount (USD)\n",
        "tech_fund.info()"
      ],
      "metadata": {
        "id": "rLFzQrHjO3Dn"
      },
      "execution_count": null,
      "outputs": []
    },
    {
      "cell_type": "code",
      "source": [
        "techfund_encoded = pd.get_dummies( tech_fund, columns=['Funding Stage', 'Region', 'Vertical'] )\n",
        "techfund_encoded.columns"
      ],
      "metadata": {
        "id": "aTv8BhJqO6wo"
      },
      "execution_count": null,
      "outputs": []
    },
    {
      "cell_type": "code",
      "source": [
        "for r in techfund_encoded.columns:\n",
        "    print(r)"
      ],
      "metadata": {
        "id": "TZjDl3HEPAjW"
      },
      "execution_count": null,
      "outputs": []
    },
    {
      "cell_type": "code",
      "source": [
        "techfund_encoded.describe()"
      ],
      "metadata": {
        "id": "1qh-kybrPCQY"
      },
      "execution_count": null,
      "outputs": []
    },
    {
      "cell_type": "code",
      "source": [
        "labels_techfund = techfund_encoded['Funding Amount (USD)']\n",
        "features_techfund = techfund_encoded.drop('Funding Amount (USD)', axis=1, inplace= False)"
      ],
      "metadata": {
        "id": "AJuSA1mzPIB1"
      },
      "execution_count": null,
      "outputs": []
    },
    {
      "cell_type": "code",
      "source": [
        "features_techfund.head()"
      ],
      "metadata": {
        "id": "kzP44LzRPIi3"
      },
      "execution_count": null,
      "outputs": []
    },
    {
      "cell_type": "markdown",
      "source": [
        "# Machine Learning Models \n",
        "\n",
        "#### Objectives:\n",
        "\n",
        "1. To check the funding amount the companies are getting based on their Vertical, Funding Stage and Region, and to conclude which companies are getting funded the most \n",
        "\n",
        "2. To find and choose the best model to fit our data; provide us with the most accurate results"
      ],
      "metadata": {
        "id": "x-AcIlxWPe6_"
      }
    },
    {
      "cell_type": "markdown",
      "source": [
        "### Machine Learning Model (Baseline) - Gradient Boosting Regressor"
      ],
      "metadata": {
        "id": "PK6U48z2SB9f"
      }
    },
    {
      "cell_type": "code",
      "source": [
        "#Test_Train Split \n",
        "trainF, testF, trainL, testL = train_test_split( features_techfund,labels_techfund, test_size=0.4, random_state=33)"
      ],
      "metadata": {
        "id": "4izwnB4EPZ1B"
      },
      "execution_count": null,
      "outputs": []
    },
    {
      "cell_type": "code",
      "source": [
        "# Gradient Boosting Regressor\n",
        "model_gbr = GradientBoostingRegressor(\n",
        "    n_estimators=1000,         \n",
        "    learning_rate=0.1,         \n",
        "    max_depth=6,               \n",
        "    min_samples_leaf=9,        \n",
        "    max_features=0.1,          \n",
        "    loss='huber'               \n",
        ")"
      ],
      "metadata": {
        "id": "hSXF4YJKPvTB"
      },
      "execution_count": null,
      "outputs": []
    },
    {
      "cell_type": "code",
      "source": [
        "# Learn from the training data set\n",
        "model_gbr.fit(trainF, trainL)"
      ],
      "metadata": {
        "id": "Fdpgrt18QcVo"
      },
      "execution_count": null,
      "outputs": []
    },
    {
      "cell_type": "markdown",
      "source": [
        "### Model Metrics (Baseline) - Train and Evaluate Model"
      ],
      "metadata": {
        "id": "JmcQUVRQQC4n"
      }
    },
    {
      "cell_type": "code",
      "source": [
        "# Evaluate the training metrics\n",
        "predicted_labels_train = model_gbr.predict(trainF)\n",
        "print(\"MAE\", mean_absolute_error(trainL, predicted_labels_train))\n",
        "print(\"R^2\", r2_score(trainL, predicted_labels_train))"
      ],
      "metadata": {
        "id": "xfTt6QziQIkZ"
      },
      "execution_count": null,
      "outputs": []
    },
    {
      "cell_type": "code",
      "source": [
        "# Evaluate the testing metrics \n",
        "predicted_labels_test = model_gbr.predict(testF)\n",
        "print(\"MAE\", mean_absolute_error(testL, predicted_labels_test))\n",
        "print(\"R^2\", r2_score(testL, predicted_labels_test))"
      ],
      "metadata": {
        "id": "_-R2-sH_QlHs"
      },
      "execution_count": null,
      "outputs": []
    },
    {
      "cell_type": "markdown",
      "source": [
        "### Deep Learning (Improved) - Neural Network"
      ],
      "metadata": {
        "id": "1GWlpsjHQrF5"
      }
    },
    {
      "cell_type": "code",
      "source": [
        "model_dl = Sequential()\n",
        "\n",
        "# Input Layer\n",
        "model_dl.add(\n",
        "    Dense(50, input_dim=229, activation='relu')\n",
        ")\n",
        "\n",
        "# Hidden Layers\n",
        "model_dl.add(\n",
        "    Dense(100, activation='relu')\n",
        ")\n",
        "model_dl.add(\n",
        "    Dense(50, activation='relu')\n",
        ")\n",
        "\n",
        "\n",
        "# Output Layer\n",
        "model_dl.add(\n",
        "    Dense(1, activation='linear')\n",
        ")"
      ],
      "metadata": {
        "id": "kn7kQPH4TUFv"
      },
      "execution_count": null,
      "outputs": []
    },
    {
      "cell_type": "code",
      "source": [
        "# ADAM (ADaptive Moment Estimation) optimizer is the algorithm that is used to find the best hyperparameters \n",
        "# The ADAM algoritm uses gradient descent to find the global minima of the weight space\n",
        "\n",
        "model_dl.compile(\n",
        "    loss='mean_squared_error',\n",
        "    optimizer='adam'\n",
        ")"
      ],
      "metadata": {
        "id": "tiXzeZPqTe8v"
      },
      "execution_count": null,
      "outputs": []
    },
    {
      "cell_type": "markdown",
      "source": [
        "### Model Metrics (Improved) - Train and Evaluate Model\n"
      ],
      "metadata": {
        "id": "r7l-wL4OURvR"
      }
    },
    {
      "cell_type": "code",
      "source": [
        "model_dl.fit( features_techfund, labels_techfund, epochs=50, shuffle=True, verbose=2 )"
      ],
      "metadata": {
        "id": "yUlAOGNmUeOo"
      },
      "execution_count": null,
      "outputs": []
    },
    {
      "cell_type": "code",
      "source": [
        "# MSE Train\n",
        "mse_train = model_dl.evaluate( trainF, trainL, verbose=0 )\n",
        "print( 'MSE Train: ', mse_train  )"
      ],
      "metadata": {
        "id": "Ea1_r7zTVJdS"
      },
      "execution_count": null,
      "outputs": []
    },
    {
      "cell_type": "code",
      "source": [
        "# MSE Test \n",
        "mse_test = model_dl.evaluate( testF, testL, verbose=0 )\n",
        "print( 'MSE Test: ', mse_test  )"
      ],
      "metadata": {
        "id": "31lXFW_xVr_w"
      },
      "execution_count": null,
      "outputs": []
    },
    {
      "cell_type": "code",
      "source": [
        "# Predict with the model\n",
        "# Predict the label\n",
        "predictes_fundingsamount = model_dl.predict(techfund_encoded)"
      ],
      "metadata": {
        "id": "HsNVWeNVV_CG"
      },
      "execution_count": null,
      "outputs": []
    },
    {
      "cell_type": "code",
      "source": [
        "prediction_scalar = predictes_sales[0][0] # 0.29026964\n",
        "prediction_scalar = prediction_scalar + 0.115913\n",
        "prediction_unscaled = prediction_scalar/0.0000036968\n",
        "prediction_unscaled"
      ],
      "metadata": {
        "id": "EGZI3uiDWIv3"
      },
      "execution_count": null,
      "outputs": []
    }
  ]
}